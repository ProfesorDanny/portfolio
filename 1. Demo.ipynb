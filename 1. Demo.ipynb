{
 "cells": [
  {
   "cell_type": "markdown",
   "id": "bda97732",
   "metadata": {},
   "source": [
    "<h1 style=\"text-align: center;\">Demo Python</h1>\n",
    "    <h1 style=\"text-align: center;\"> SQL</h1>"
   ]
  },
  {
   "cell_type": "markdown",
   "id": "8eae5cb0",
   "metadata": {},
   "source": [
    "### Docente: Danny Blanco\n",
    "### Estudiante: \n",
    "### Correo: \n",
    "### Fecha:"
   ]
  },
  {
   "cell_type": "markdown",
   "id": "b00dd2a6",
   "metadata": {},
   "source": [
    "## Importación de librerías"
   ]
  },
  {
   "cell_type": "code",
   "execution_count": 5,
   "id": "e14d5ef5",
   "metadata": {},
   "outputs": [],
   "source": [
    "import pandas as pd\n",
    "import getpass as gp\n",
    "from sqlalchemy import create_engine"
   ]
  },
  {
   "cell_type": "markdown",
   "id": "426c2608",
   "metadata": {},
   "source": [
    "## Conexión y lectura de datos desde una base de datos SQL"
   ]
  },
  {
   "cell_type": "code",
   "execution_count": 7,
   "id": "82c1b828",
   "metadata": {},
   "outputs": [
    {
     "name": "stdin",
     "output_type": "stream",
     "text": [
      "Usuario  sa\n",
      "Ingrese su contraseña  ········\n"
     ]
    }
   ],
   "source": [
    "server = 'DESKTOP-9U1Q5LL\\CURSO_SQL'\n",
    "database = 'Negocio'  \n",
    "username = input('Usuario ' )\n",
    "password = gp.getpass('Ingrese su contraseña ')\n"
   ]
  },
  {
   "cell_type": "code",
   "execution_count": 10,
   "id": "9ea8705f-a868-45c1-8907-a5de177a0c8e",
   "metadata": {},
   "outputs": [
    {
     "data": {
      "text/html": [
       "<div>\n",
       "<style scoped>\n",
       "    .dataframe tbody tr th:only-of-type {\n",
       "        vertical-align: middle;\n",
       "    }\n",
       "\n",
       "    .dataframe tbody tr th {\n",
       "        vertical-align: top;\n",
       "    }\n",
       "\n",
       "    .dataframe thead th {\n",
       "        text-align: right;\n",
       "    }\n",
       "</style>\n",
       "<table border=\"1\" class=\"dataframe\">\n",
       "  <thead>\n",
       "    <tr style=\"text-align: right;\">\n",
       "      <th></th>\n",
       "      <th>Mes</th>\n",
       "      <th>comprador</th>\n",
       "      <th>Suma_UF</th>\n",
       "    </tr>\n",
       "  </thead>\n",
       "  <tbody>\n",
       "    <tr>\n",
       "      <th>0</th>\n",
       "      <td>2021-12</td>\n",
       "      <td>CARMEN VICTORIA TORC PARDO</td>\n",
       "      <td>3881.98</td>\n",
       "    </tr>\n",
       "    <tr>\n",
       "      <th>1</th>\n",
       "      <td>2021-12</td>\n",
       "      <td>FONDO DE INVERSIÓN SECURITY DEUDA HABITACIONAL...</td>\n",
       "      <td>1600.00</td>\n",
       "    </tr>\n",
       "    <tr>\n",
       "      <th>2</th>\n",
       "      <td>2021-12</td>\n",
       "      <td>GIANITZA SOLANGE ACEVEDO JOFRE</td>\n",
       "      <td>1080.00</td>\n",
       "    </tr>\n",
       "    <tr>\n",
       "      <th>3</th>\n",
       "      <td>2021-12</td>\n",
       "      <td>INMOBILIARIA MIRASCL S.A.</td>\n",
       "      <td>840.00</td>\n",
       "    </tr>\n",
       "    <tr>\n",
       "      <th>4</th>\n",
       "      <td>2021-12</td>\n",
       "      <td>JUAN CARLOS VALENCIA RIVERA</td>\n",
       "      <td>7000.00</td>\n",
       "    </tr>\n",
       "  </tbody>\n",
       "</table>\n",
       "</div>"
      ],
      "text/plain": [
       "       Mes                                          comprador  Suma_UF\n",
       "0  2021-12                         CARMEN VICTORIA TORC PARDO  3881.98\n",
       "1  2021-12  FONDO DE INVERSIÓN SECURITY DEUDA HABITACIONAL...  1600.00\n",
       "2  2021-12                     GIANITZA SOLANGE ACEVEDO JOFRE  1080.00\n",
       "3  2021-12                          INMOBILIARIA MIRASCL S.A.   840.00\n",
       "4  2021-12                        JUAN CARLOS VALENCIA RIVERA  7000.00"
      ]
     },
     "execution_count": 10,
     "metadata": {},
     "output_type": "execute_result"
    }
   ],
   "source": [
    "connection_url = f'mssql+pyodbc://{username}:{password}@{server}/{database}?driver=SQL+Server'\n",
    "engine = create_engine(connection_url)\n",
    "query ='''\n",
    "select \n",
    "\tformat( fecha, 'yyyy-MM') as Mes,\n",
    "\tcomprador,\n",
    "\tsum(UF) as Suma_UF\n",
    "from cbr\n",
    "where foja>=100251 and foja <=100500\n",
    "group by format( fecha, 'yyyy-MM'), comprador\n",
    "\n",
    "order by comprador '''\n",
    "df = pd.read_sql_query(query, engine)\n",
    "\n",
    "df.head()"
   ]
  },
  {
   "cell_type": "code",
   "execution_count": 11,
   "id": "e46bcde5-d2be-4bd2-baf8-8c4eb39d07f7",
   "metadata": {},
   "outputs": [
    {
     "data": {
      "text/html": [
       "<div>\n",
       "<style scoped>\n",
       "    .dataframe tbody tr th:only-of-type {\n",
       "        vertical-align: middle;\n",
       "    }\n",
       "\n",
       "    .dataframe tbody tr th {\n",
       "        vertical-align: top;\n",
       "    }\n",
       "\n",
       "    .dataframe thead th {\n",
       "        text-align: right;\n",
       "    }\n",
       "</style>\n",
       "<table border=\"1\" class=\"dataframe\">\n",
       "  <thead>\n",
       "    <tr style=\"text-align: right;\">\n",
       "      <th></th>\n",
       "      <th>Mes</th>\n",
       "      <th>comprador</th>\n",
       "      <th>Suma_UF</th>\n",
       "      <th>CLP</th>\n",
       "    </tr>\n",
       "  </thead>\n",
       "  <tbody>\n",
       "    <tr>\n",
       "      <th>0</th>\n",
       "      <td>2021-12</td>\n",
       "      <td>CARMEN VICTORIA TORC PARDO</td>\n",
       "      <td>3881.98</td>\n",
       "      <td>147515240.0</td>\n",
       "    </tr>\n",
       "    <tr>\n",
       "      <th>1</th>\n",
       "      <td>2021-12</td>\n",
       "      <td>FONDO DE INVERSIÓN SECURITY DEUDA HABITACIONAL...</td>\n",
       "      <td>1600.00</td>\n",
       "      <td>60800000.0</td>\n",
       "    </tr>\n",
       "    <tr>\n",
       "      <th>2</th>\n",
       "      <td>2021-12</td>\n",
       "      <td>GIANITZA SOLANGE ACEVEDO JOFRE</td>\n",
       "      <td>1080.00</td>\n",
       "      <td>41040000.0</td>\n",
       "    </tr>\n",
       "    <tr>\n",
       "      <th>3</th>\n",
       "      <td>2021-12</td>\n",
       "      <td>INMOBILIARIA MIRASCL S.A.</td>\n",
       "      <td>840.00</td>\n",
       "      <td>31920000.0</td>\n",
       "    </tr>\n",
       "    <tr>\n",
       "      <th>4</th>\n",
       "      <td>2021-12</td>\n",
       "      <td>JUAN CARLOS VALENCIA RIVERA</td>\n",
       "      <td>7000.00</td>\n",
       "      <td>266000000.0</td>\n",
       "    </tr>\n",
       "  </tbody>\n",
       "</table>\n",
       "</div>"
      ],
      "text/plain": [
       "       Mes                                          comprador  Suma_UF  \\\n",
       "0  2021-12                         CARMEN VICTORIA TORC PARDO  3881.98   \n",
       "1  2021-12  FONDO DE INVERSIÓN SECURITY DEUDA HABITACIONAL...  1600.00   \n",
       "2  2021-12                     GIANITZA SOLANGE ACEVEDO JOFRE  1080.00   \n",
       "3  2021-12                          INMOBILIARIA MIRASCL S.A.   840.00   \n",
       "4  2021-12                        JUAN CARLOS VALENCIA RIVERA  7000.00   \n",
       "\n",
       "           CLP  \n",
       "0  147515240.0  \n",
       "1   60800000.0  \n",
       "2   41040000.0  \n",
       "3   31920000.0  \n",
       "4  266000000.0  "
      ]
     },
     "execution_count": 11,
     "metadata": {},
     "output_type": "execute_result"
    }
   ],
   "source": [
    "uf= 38000\n",
    "\n",
    "df['CLP'] = df['Suma_UF'] * uf\n",
    "df.head()"
   ]
  },
  {
   "cell_type": "code",
   "execution_count": 12,
   "id": "ba02a36f-8588-43a9-82b1-a84236c06995",
   "metadata": {},
   "outputs": [],
   "source": [
    "df.to_excel('resultado.xlsx', sheet_name='Resumen', index=False)"
   ]
  },
  {
   "cell_type": "code",
   "execution_count": null,
   "id": "458ff856-a5d1-44df-9f56-8b30ef9e2868",
   "metadata": {},
   "outputs": [],
   "source": []
  }
 ],
 "metadata": {
  "kernelspec": {
   "display_name": "Python 3 (ipykernel)",
   "language": "python",
   "name": "python3"
  },
  "language_info": {
   "codemirror_mode": {
    "name": "ipython",
    "version": 3
   },
   "file_extension": ".py",
   "mimetype": "text/x-python",
   "name": "python",
   "nbconvert_exporter": "python",
   "pygments_lexer": "ipython3",
   "version": "3.11.7"
  }
 },
 "nbformat": 4,
 "nbformat_minor": 5
}
